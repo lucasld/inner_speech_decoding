{
 "cells": [
  {
   "cell_type": "code",
   "execution_count": 1,
   "metadata": {
    "collapsed": true
   },
   "outputs": [],
   "source": [
    "import tensorflow as tf\n",
    "from tensorflow.keras import Sequential\n",
    "from tensorflow.keras.models import Model\n",
    "from tensorflow.keras.layers import Dense, Conv2D, Flatten, Dropout, LeakyReLU, Activation, BatchNormalization, MaxPool2D\n",
    "import data_preprocessing as dp\n",
    "\n",
    "import models.training as train\n",
    "import utilities"
   ]
  },
  {
   "cell_type": "markdown",
   "source": [
    "### Import data"
   ],
   "metadata": {
    "collapsed": false,
    "pycharm": {
     "name": "#%% md\n"
    }
   }
  },
  {
   "cell_type": "code",
   "execution_count": 2,
   "outputs": [],
   "source": [
    "reshaped_data = tf.data.experimental.load('dataset/preprocessed/reshaped_pca98_ds')\n",
    "channel_data = tf.data.experimental.load('dataset/preprocessed/channel_pca98_ds')"
   ],
   "metadata": {
    "collapsed": false,
    "pycharm": {
     "name": "#%%\n"
    }
   }
  },
  {
   "cell_type": "markdown",
   "source": [
    "### Split"
   ],
   "metadata": {
    "collapsed": false,
    "pycharm": {
     "name": "#%% md\n"
    }
   }
  },
  {
   "cell_type": "code",
   "execution_count": 3,
   "outputs": [],
   "source": [
    "reshaped_ds = dp.split_dataset(reshaped_data)\n",
    "channel_ds = dp.split_dataset(channel_data)"
   ],
   "metadata": {
    "collapsed": false,
    "pycharm": {
     "name": "#%%\n"
    }
   }
  },
  {
   "cell_type": "code",
   "execution_count": 4,
   "outputs": [
    {
     "data": {
      "text/plain": "<_LoadDataset shapes: ((None, 44, 640, 1), (None, 4)), types: (tf.float64, tf.float32)>"
     },
     "execution_count": 4,
     "metadata": {},
     "output_type": "execute_result"
    }
   ],
   "source": [
    "channel_data"
   ],
   "metadata": {
    "collapsed": false,
    "pycharm": {
     "name": "#%%\n"
    }
   }
  },
  {
   "cell_type": "markdown",
   "source": [
    "### Dense Model"
   ],
   "metadata": {
    "collapsed": false,
    "pycharm": {
     "name": "#%% md\n"
    }
   }
  },
  {
   "cell_type": "code",
   "execution_count": 4,
   "outputs": [],
   "source": [],
   "metadata": {
    "collapsed": false,
    "pycharm": {
     "name": "#%%\n"
    }
   }
  },
  {
   "cell_type": "markdown",
   "source": [
    "### CNN"
   ],
   "metadata": {
    "collapsed": false,
    "pycharm": {
     "name": "#%% md\n"
    }
   }
  },
  {
   "cell_type": "code",
   "execution_count": 5,
   "outputs": [],
   "source": [
    "class Conv(Model):\n",
    "    def __init__(self):\n",
    "        \"\"\"\n",
    "        init: constructor of model\n",
    "        call: performs forward pass of model\n",
    "        \"\"\"\n",
    "        super(Conv, self).__init__()\n",
    "\n",
    "        self.layer_list = [\n",
    "            #Conv2D(filters=32, kernel_size=(3,3), padding = 'same'),\n",
    "            #BatchNormalization(),\n",
    "            #LeakyReLU(),\n",
    "            #MaxPool2D(),\n",
    "            Conv2D(filters=16, kernel_size=(3,3), padding = 'same'),\n",
    "            BatchNormalization(),\n",
    "            LeakyReLU(),\n",
    "            Dropout(0.3),\n",
    "            MaxPool2D(),\n",
    "            Conv2D(filters=8, kernel_size=(3,3), padding = 'same'),\n",
    "            BatchNormalization(),\n",
    "            LeakyReLU(),\n",
    "            tf.keras.layers.GlobalAveragePooling2D(),\n",
    "            Dense(4, activation='softmax')\n",
    "        ]\n",
    "\n",
    "    @tf.function\n",
    "    def call(self, inputs) -> tf.Tensor:\n",
    "        \"\"\" Computes a forward step with the given data\n",
    "        Parameters\n",
    "        ----------\n",
    "        inputs : tf.Tensor\n",
    "            the input for the model\n",
    "        training : bool\n",
    "            true if call has been made from train_step, which tells the dropout layer to be active\n",
    "        Returns\n",
    "        ----------\n",
    "        x : tf.Tensor\n",
    "            the output of the model\n",
    "        \"\"\"\n",
    "        x = inputs\n",
    "        for layer in self.layer_list:\n",
    "            x = layer(x)\n",
    "        return x"
   ],
   "metadata": {
    "collapsed": false,
    "pycharm": {
     "name": "#%%\n"
    }
   }
  },
  {
   "cell_type": "code",
   "execution_count": 6,
   "outputs": [
    {
     "name": "stdout",
     "output_type": "stream",
     "text": [
      "Model: \"conv\"\n",
      "_________________________________________________________________\n",
      "Layer (type)                 Output Shape              Param #   \n",
      "=================================================================\n",
      "conv2d (Conv2D)              multiple                  160       \n",
      "_________________________________________________________________\n",
      "batch_normalization (BatchNo multiple                  64        \n",
      "_________________________________________________________________\n",
      "leaky_re_lu (LeakyReLU)      multiple                  0         \n",
      "_________________________________________________________________\n",
      "dropout (Dropout)            multiple                  0         \n",
      "_________________________________________________________________\n",
      "max_pooling2d (MaxPooling2D) multiple                  0         \n",
      "_________________________________________________________________\n",
      "conv2d_1 (Conv2D)            multiple                  1160      \n",
      "_________________________________________________________________\n",
      "batch_normalization_1 (Batch multiple                  32        \n",
      "_________________________________________________________________\n",
      "leaky_re_lu_1 (LeakyReLU)    multiple                  0         \n",
      "_________________________________________________________________\n",
      "global_average_pooling2d (Gl multiple                  0         \n",
      "_________________________________________________________________\n",
      "dense (Dense)                multiple                  36        \n",
      "=================================================================\n",
      "Total params: 1,452\n",
      "Trainable params: 1,404\n",
      "Non-trainable params: 48\n",
      "_________________________________________________________________\n"
     ]
    }
   ],
   "source": [
    "model = Conv()\n",
    "model.build((None, 44, 640, 1))\n",
    "model.summary()"
   ],
   "metadata": {
    "collapsed": false,
    "pycharm": {
     "name": "#%%\n"
    }
   }
  },
  {
   "cell_type": "code",
   "execution_count": null,
   "outputs": [],
   "source": [
    "%matplotlib tk\n",
    "# Initialize the loss-function\n",
    "loss_func = tf.losses.CategoricalCrossentropy()\n",
    "# Initialize the optimizer\n",
    "optimizer = tf.keras.optimizers.Adam()\n",
    "# Initialize Train-Object\n",
    "trainer = train.Trainer(model, channel_ds,\n",
    "                        optimizer, loss_func, train.accuracy)\n",
    "# Initialize Plotting-Object\n",
    "grapher = utilities.TrainingGrapher(3,1, supxlabel='Epochs', axs_xlabels=[['Train Loss', 'Test Loss', 'Test Accuracy']])\n",
    "\n",
    "\n",
    "for epoch in range(10):\n",
    "    print(\"Epoch:\", epoch, end='\\r')\n",
    "    trainer.train_epoch()\n",
    "    grapher.update([trainer.losses['train'], trainer.losses['test'], trainer.accuracies['test']])"
   ],
   "metadata": {
    "collapsed": false,
    "pycharm": {
     "name": "#%%\n",
     "is_executing": true
    }
   }
  },
  {
   "cell_type": "code",
   "execution_count": null,
   "outputs": [],
   "source": [],
   "metadata": {
    "collapsed": false,
    "pycharm": {
     "name": "#%%\n"
    }
   }
  }
 ],
 "metadata": {
  "kernelspec": {
   "display_name": "Python 3",
   "language": "python",
   "name": "python3"
  },
  "language_info": {
   "codemirror_mode": {
    "name": "ipython",
    "version": 2
   },
   "file_extension": ".py",
   "mimetype": "text/x-python",
   "name": "python",
   "nbconvert_exporter": "python",
   "pygments_lexer": "ipython2",
   "version": "2.7.6"
  }
 },
 "nbformat": 4,
 "nbformat_minor": 0
}