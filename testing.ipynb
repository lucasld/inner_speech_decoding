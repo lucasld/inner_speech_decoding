{
 "cells": [
  {
   "cell_type": "code",
   "execution_count": null,
   "metadata": {},
   "outputs": [],
   "source": [
    "import mne\n",
    "import matplotlib.pyplot as plt\n",
    "import tensorflow as tf\n",
    "\n",
    "import data_preprocessing as dp\n",
    "import training\n",
    "import utilities"
   ]
  },
  {
   "cell_type": "code",
   "execution_count": null,
   "metadata": {},
   "outputs": [],
   "source": [
    "Adquisition_eq=\"biosemi128\"\n",
    "montage = mne.channels.make_standard_montage(Adquisition_eq)\n",
    "montage.plot()\n",
    "\n",
    "# https://www.frontiersin.org/articles/10.3389/fneur.2020.00375/full"
   ]
  },
  {
   "cell_type": "markdown",
   "metadata": {},
   "source": [
    "## Dataset\n",
    "Data is epoched, keeping only the 4.5s length signals correpsonding to the time window between the beginning of the concentration interval and the end of the relacation interval.\n"
   ]
  },
  {
   "cell_type": "code",
   "execution_count": null,
   "metadata": {},
   "outputs": [],
   "source": [
    "data, events = dp.load_data()"
   ]
  },
  {
   "cell_type": "code",
   "execution_count": null,
   "metadata": {},
   "outputs": [],
   "source": [
    "import numpy as np\n",
    "data, events = dp.choose_condition(data, events, 'inner speech')\n",
    "data = data.astype(np.float16) * 100_000  # NORMALIZATION ONLY POSSIBLE BY MULTIPLYING HERE?"
   ]
  },
  {
   "cell_type": "code",
   "execution_count": null,
   "metadata": {},
   "outputs": [],
   "source": [
    "data = dp.normalization(data)"
   ]
  },
  {
   "cell_type": "code",
   "execution_count": null,
   "metadata": {},
   "outputs": [],
   "source": [
    "dataset = tf.data.Dataset.from_tensor_slices((data, events[:, 1]))\n",
    "dataset = dp.preprocessing_pipeline(dataset, dp.filter_interval, [[1, 3.5], 256], batch_size=12)"
   ]
  },
  {
   "cell_type": "code",
   "execution_count": null,
   "metadata": {},
   "outputs": [],
   "source": [
    "datasets = dp.split_dataset(dataset)"
   ]
  },
  {
   "cell_type": "markdown",
   "metadata": {},
   "source": [
    "### Display Data"
   ]
  },
  {
   "cell_type": "code",
   "execution_count": null,
   "metadata": {},
   "outputs": [],
   "source": [
    "for data_batch, target_batch in datasets['test'].take(1):\n",
    "    utilities.plot_eeg_data(data_batch[0])"
   ]
  },
  {
   "cell_type": "markdown",
   "metadata": {},
   "source": [
    "### Model-Testing"
   ]
  },
  {
   "cell_type": "code",
   "execution_count": null,
   "metadata": {},
   "outputs": [],
   "source": [
    "class ConvNet(tf.keras.Model):\n",
    "    def __init__(self, layer_list=[\n",
    "        tf.keras.layers.Conv2D(filters=64, kernel_size=3),\n",
    "        tf.keras.layers.BatchNormalization(), \n",
    "        tf.keras.layers.ReLU(),\n",
    "        tf.keras.layers.Conv2D(filters=64, kernel_size=5),\n",
    "        tf.keras.layers.BatchNormalization(), \n",
    "        tf.keras.layers.ReLU(),\n",
    "        tf.keras.layers.Conv2D(filters=128, kernel_size=6),\n",
    "        tf.keras.layers.GlobalAveragePooling2D(),\n",
    "        tf.keras.layers.Dense(50, 'sigmoid'),\n",
    "        tf.keras.layers.Dense(10, 'sigmoid'),\n",
    "        tf.keras.layers.Dense(4, 'softmax'),\n",
    "    ]) -> None:\n",
    "        super(ConvNet, self).__init__()\n",
    "        self.layer_list = layer_list\n",
    "    \n",
    "    @tf.function\n",
    "    def call(self, inputs) -> tf.Tensor:\n",
    "        x = inputs\n",
    "        for layer in self.layer_list:\n",
    "            x = layer(x)\n",
    "        return x"
   ]
  },
  {
   "cell_type": "code",
   "execution_count": null,
   "metadata": {},
   "outputs": [],
   "source": [
    "for key, value in datasets.items():\n",
    "    datasets[key] = value.map(lambda i, t: (tf.reshape(i, (12, 128, 640, 1)), t))\n"
   ]
  },
  {
   "cell_type": "code",
   "execution_count": null,
   "metadata": {},
   "outputs": [],
   "source": [
    "# model\n",
    "net1 = ConvNet()\n",
    "# Initialize the loss-function\n",
    "cross_entropy_loss = tf.keras.losses.CategoricalCrossentropy()\n",
    "# Initialize the optimizer\n",
    "optimizer = tf.keras.optimizers.Adam()\n",
    "\n",
    "losses_res, accuracies_res = training.training(net1, datasets, cross_entropy_loss,\n",
    "                                      optimizer, epochs=30)"
   ]
  },
  {
   "cell_type": "code",
   "execution_count": null,
   "metadata": {},
   "outputs": [],
   "source": []
  }
 ],
 "metadata": {
  "interpreter": {
   "hash": "ca8d0a0b18e5ead98978c779fcc98c2ce0d58c7314eef98ffee0524dd190160b"
  },
  "kernelspec": {
   "display_name": "Python 3.9.10 ('py35')",
   "language": "python",
   "name": "python3"
  },
  "language_info": {
   "codemirror_mode": {
    "name": "ipython",
    "version": 3
   },
   "file_extension": ".py",
   "mimetype": "text/x-python",
   "name": "python",
   "nbconvert_exporter": "python",
   "pygments_lexer": "ipython3",
   "version": "3.9.10"
  },
  "orig_nbformat": 4
 },
 "nbformat": 4,
 "nbformat_minor": 2
}
