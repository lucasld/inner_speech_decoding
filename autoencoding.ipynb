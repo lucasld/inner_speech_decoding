{
 "cells": [
  {
   "cell_type": "code",
   "execution_count": null,
   "metadata": {},
   "outputs": [],
   "source": [
    "import mne\n",
    "import matplotlib.pyplot as plt\n",
    "import numpy as np\n",
    "import tensorflow as tf\n",
    "\n",
    "import data_preprocessing as dp\n",
    "import utilities\n",
    "import models.training as train\n",
    "from models.autoencoder import ConvolutionalAutoencoder"
   ]
  },
  {
   "cell_type": "code",
   "execution_count": null,
   "metadata": {},
   "outputs": [],
   "source": [
    "data, events = dp.load_data()"
   ]
  },
  {
   "cell_type": "code",
   "execution_count": null,
   "metadata": {},
   "outputs": [],
   "source": [
    "data, events = dp.choose_condition(data, events, 'inner speech')\n",
    "data = data.astype(np.float16) * 100_000  # NORMALIZATION ONLY POSSIBLE BY MULTIPLYING HERE?\n",
    "data = dp.normalization(data)\n",
    "\n",
    "autoencoder_dataset = tf.data.Dataset.from_tensor_slices((data, data))\n",
    "autoencoder_dataset = dp.preprocessing_pipeline(\n",
    "    autoencoder_dataset,\n",
    "    functions = [dp.filter_interval,\n",
    "                 lambda sample: (tf.reshape(sample[0], (128, 640, 1)),\n",
    "                                 tf.reshape(sample[0], (128, 640, 1)))\n",
    "                ],\n",
    "    args = [[[1, 3.5], 256, [0, 1]], []],\n",
    "    batch_size = 12\n",
    ")\n",
    "autoencoder_datasets = dp.split_dataset(autoencoder_dataset,\n",
    "                                        splits={'train':0.9,\n",
    "                                                'test':0.05,\n",
    "                                                'valid':0.05})"
   ]
  },
  {
   "cell_type": "code",
   "execution_count": null,
   "metadata": {},
   "outputs": [],
   "source": [
    "autoencoder = ConvolutionalAutoencoder()\n",
    "autoencoder.build((None, 128,640,1))\n",
    "\n",
    "autoencoder.summary()\n",
    "\n",
    "for _input, target in autoencoder_datasets['train'].take(1):\n",
    "    out = autoencoder(_input)\n",
    "    plt.subplot(1,2,1)\n",
    "    plt.imshow(target[0][:,:,0])\n",
    "    plt.subplot(1,2,2)\n",
    "    plt.imshow(out[0][:,:,0])"
   ]
  },
  {
   "cell_type": "code",
   "execution_count": null,
   "metadata": {},
   "outputs": [],
   "source": [
    "%matplotlib tk\n",
    "# Initialize the loss-function\n",
    "loss_func = tf.keras.losses.MeanSquaredError()\n",
    "# Initialize the optimizer\n",
    "optimizer = tf.keras.optimizers.Adam()\n",
    "# Initialize Train-Object\n",
    "trainer = train.Trainer(autoencoder, autoencoder_datasets, optimizer, loss_func)\n",
    "# Initialize Plotting-Object\n",
    "grapher = utilities.TrainingGrapher(2,1, supxlabel='Epochs', axs_xlabels=[['train loss', 'test loss']])\n",
    "\n",
    "for epoch in range(20):\n",
    "    print(epoch, end='\\r')  \n",
    "    trainer.train_epoch()\n",
    "    grapher.update([trainer.losses['train'], trainer.losses['test']])\n"
   ]
  },
  {
   "cell_type": "code",
   "execution_count": null,
   "metadata": {},
   "outputs": [],
   "source": [
    "%matplotlib inline\n",
    "grapher.fig"
   ]
  },
  {
   "cell_type": "code",
   "execution_count": null,
   "metadata": {},
   "outputs": [],
   "source": [
    "for i, t in autoencoder_datasets['valid'].take(1):\n",
    "    out_enc = autoencoder.encoder(i)\n",
    "    out_dec = autoencoder.decoder(out_enc)\n",
    "    f, axs = plt.subplots(1,3,figsize=(15,15))\n",
    "    axs[0].imshow(t[0][:,:,0])\n",
    "    axs[1].imshow(out_dec[0][:,:,0])\n",
    "    # normalize each channel\n",
    "    norm_enc = out_enc[0] / np.max(out_enc[0], (0, 1))[np.newaxis, np.newaxis, :]\n",
    "    axs[2].imshow(norm_enc)"
   ]
  },
  {
   "cell_type": "code",
   "execution_count": null,
   "metadata": {},
   "outputs": [],
   "source": [
    "# Save the entire model as a SavedModel.\n",
    "!mkdir -p saved_model\n",
    "autoencoder.save('./models/saved_models/autoencoder')"
   ]
  }
 ],
 "metadata": {
  "interpreter": {
   "hash": "ca8d0a0b18e5ead98978c779fcc98c2ce0d58c7314eef98ffee0524dd190160b"
  },
  "kernelspec": {
   "display_name": "Python 3.9.10 ('py35')",
   "language": "python",
   "name": "python3"
  },
  "language_info": {
   "codemirror_mode": {
    "name": "ipython",
    "version": 3
   },
   "file_extension": ".py",
   "mimetype": "text/x-python",
   "name": "python",
   "nbconvert_exporter": "python",
   "pygments_lexer": "ipython3",
   "version": "3.9.10"
  },
  "orig_nbformat": 4
 },
 "nbformat": 4,
 "nbformat_minor": 2
}
