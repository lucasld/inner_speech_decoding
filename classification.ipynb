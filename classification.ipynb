{
 "cells": [
  {
   "cell_type": "code",
   "execution_count": 1,
   "metadata": {},
   "outputs": [
    {
     "name": "stderr",
     "output_type": "stream",
     "text": [
      "<frozen importlib._bootstrap>:228: RuntimeWarning: scipy._lib.messagestream.MessageStream size changed, may indicate binary incompatibility. Expected 56 from C header, got 64 from PyObject\n"
     ]
    }
   ],
   "source": [
    "import mne\n",
    "import matplotlib.pyplot as plt\n",
    "import numpy as np\n",
    "import tensorflow as tf\n",
    "from keras.utils.vis_utils import plot_model\n",
    "\n",
    "import data_preprocessing as dp\n",
    "import utilities\n",
    "import models.training as train\n",
    "import models.autoencoder\n",
    "from models.autoencoder import ConvolutionalAutoencoder"
   ]
  },
  {
   "cell_type": "markdown",
   "metadata": {},
   "source": [
    "### Create Dataset with EEG-Data compressed by trained Autoencoder\n",
    "\n",
    "```python\n",
    "data, events = dp.load_data()\n",
    "data, events = dp.choose_condition(data, events, 'inner speech')\n",
    "norm_data = data.astype(np.float16) * 100_000  # NORMALIZATION ONLY POSSIBLE BY MULTIPLYING HERE?\n",
    "norm_data = dp.normalization(norm_data)\n",
    "\n",
    "dataset = tf.data.Dataset.from_tensor_slices((norm_data, events[:, 1]))\n",
    "dataset = dp.preprocessing_pipeline(\n",
    "    dataset,\n",
    "    functions = [dp.filter_interval_tensor,\n",
    "                 lambda sample:(sample[0], tf.one_hot(sample[1], 4)), # one-hot\n",
    "                 lambda sample: (tf.reshape(sample[0], (128, 640, 1)),\n",
    "                                 sample[1])],\n",
    "    args = [[[1, 3.5], 256], [], []],\n",
    "    batch_size = 12\n",
    ")\n",
    "\n",
    "# save dataset so that we can just load the preprocessed version next time\n",
    "tf.data.experimental.save(dataset, 'dataset/preprocessed/auto_class_ds')\n",
    "```"
   ]
  },
  {
   "cell_type": "code",
   "execution_count": 2,
   "metadata": {},
   "outputs": [
    {
     "name": "stdout",
     "output_type": "stream",
     "text": [
      "Metal device set to: Apple M1 Pro\n",
      "\n",
      "systemMemory: 16.00 GB\n",
      "maxCacheSize: 5.33 GB\n",
      "\n"
     ]
    },
    {
     "name": "stderr",
     "output_type": "stream",
     "text": [
      "2022-03-16 13:18:11.136809: I tensorflow/core/common_runtime/pluggable_device/pluggable_device_factory.cc:305] Could not identify NUMA node of platform GPU ID 0, defaulting to 0. Your kernel may not have been built with NUMA support.\n",
      "2022-03-16 13:18:11.136987: I tensorflow/core/common_runtime/pluggable_device/pluggable_device_factory.cc:271] Created TensorFlow device (/job:localhost/replica:0/task:0/device:GPU:0 with 0 MB memory) -> physical PluggableDevice (device: 0, name: METAL, pci bus id: <undefined>)\n"
     ]
    }
   ],
   "source": [
    "# load datasets\n",
    "datasets = {key:tf.data.experimental.load(f'dataset/preprocessed/new_full_ds/{key}') for key in ('train', 'test', 'valid')}"
   ]
  },
  {
   "cell_type": "code",
   "execution_count": 3,
   "metadata": {},
   "outputs": [
    {
     "name": "stdout",
     "output_type": "stream",
     "text": [
      "WARNING:tensorflow:No training configuration found in save file, so the model was *not* compiled. Compile it manually.\n"
     ]
    }
   ],
   "source": [
    "# load dataset created previously\n",
    "##dataset = tf.data.experimental.load('dataset/preprocessed/auto_class_ds')\n",
    "# Load autoencoder-model\n",
    "autoencoder_trained = tf.keras.models.load_model('./models/saved_models/autoencoder_20Epochs_train_split')\n",
    "# create dataset by extracting latent space for every sample\n",
    "autoencoded_datasets = {key:models.autoencoder.latent_dataset(autoencoder_trained.encoder, ds) for key, ds in datasets.items()}\n",
    "##autoencoded_dataset = autoencoded_dataset.shuffle(200)\n",
    "##autoencoded_datasets = dp.split_dataset(autoencoded_dataset)"
   ]
  },
  {
   "cell_type": "code",
   "execution_count": 4,
   "metadata": {},
   "outputs": [
    {
     "name": "stdout",
     "output_type": "stream",
     "text": [
      "tf.Tensor([1. 0. 0. 0.], shape=(4,), dtype=float32)\n",
      "(32, 40, 3)\n"
     ]
    },
    {
     "name": "stderr",
     "output_type": "stream",
     "text": [
      "2022-03-16 13:18:12.272974: W tensorflow/core/platform/profile_utils/cpu_utils.cc:128] Failed to get CPU frequency: 0 Hz\n",
      "2022-03-16 13:18:12.278494: I tensorflow/core/grappler/optimizers/custom_graph_optimizer_registry.cc:113] Plugin optimizer for device_type GPU is enabled.\n"
     ]
    },
    {
     "data": {
      "image/png": "[encoded data removed]",
      "text/plain": [
       "<Figure size 432x288 with 1 Axes>"
      ]
     },
     "metadata": {
      "needs_background": "light"
     },
     "output_type": "display_data"
    }
   ],
   "source": [
    "%matplotlib inline\n",
    "for i, t in autoencoded_datasets['valid'].take(1):\n",
    "    print(t[0])\n",
    "    # normalize\n",
    "    norm_enc = i[0] / np.max(i[0], (0, 1))[np.newaxis, np.newaxis, :]\n",
    "    plt.imshow(norm_enc)\n",
    "    print(norm_enc.shape)\n",
    "    plt.show()"
   ]
  },
  {
   "cell_type": "markdown",
   "metadata": {},
   "source": [
    "### Classify Autoencoded Dataset"
   ]
  },
  {
   "cell_type": "code",
   "execution_count": 5,
   "metadata": {},
   "outputs": [],
   "source": [
    "#from models.classifiers import ConvAuto1\n",
    "\n",
    "#model1 = ConvAuto1()\n",
    "#model1.build((12, 32, 40, 3))\n",
    "#model1.summary()"
   ]
  },
  {
   "cell_type": "code",
   "execution_count": 6,
   "metadata": {},
   "outputs": [],
   "source": [
    "import tensorflow as tf\n",
    "from tensorflow.keras import Sequential\n",
    "from tensorflow.keras.models import Model\n",
    "from tensorflow.keras.layers import Dense, Conv2D, Flatten, Dropout, Normalization, LeakyReLU, Activation, BatchNormalization, MaxPool2D\n",
    "\n",
    "class ConvAuto2(Model):\n",
    "    def __init__(self):\n",
    "        \"\"\"\n",
    "        init: constructor of model\n",
    "        call: performs forward pass of model\n",
    "        \"\"\"\n",
    "        super(ConvAuto2, self).__init__()\n",
    "\n",
    "        self.layer_list = [\n",
    "            tf.keras.layers.GaussianNoise(1),\n",
    "            tf.keras.Sequential([\n",
    "                tf.keras.layers.RandomContrast(0.2),\n",
    "                tf.keras.layers.RandomFlip(mode=\"horizontal_and_vertical\")\n",
    "            ]),\n",
    "            Conv2D(filters=64, kernel_size=(3,3)),\n",
    "            BatchNormalization(),\n",
    "            LeakyReLU(),\n",
    "            Conv2D(filters=32, kernel_size=(3,3)),\n",
    "            BatchNormalization(),\n",
    "            LeakyReLU(),\n",
    "            Dropout(0.3),\n",
    "            Conv2D(filters=8, kernel_size=(3,3)),\n",
    "            BatchNormalization(),\n",
    "            LeakyReLU(),\n",
    "            tf.keras.layers.GlobalAveragePooling2D(),\n",
    "            Dense(4, activation='softmax')\n",
    "        ]\n",
    "\n",
    "    @tf.function\n",
    "    def call(self, inputs, training=None) -> tf.Tensor:\n",
    "        \"\"\" Computes a forward step with the given data\n",
    "        Parameters\n",
    "        ----------\n",
    "        inputs : tf.Tensor\n",
    "            the input for the model\n",
    "        training : bool\n",
    "            true if call has been made from train_step, which tells the dropout layer to be active \n",
    "        Returns\n",
    "        ----------\n",
    "        x : tf.Tensor\n",
    "            the output of the model\n",
    "        \"\"\"\n",
    "        x = inputs\n",
    "        for layer in self.layer_list:\n",
    "            x = layer(x, training=training)\n",
    "        return x\n",
    "\n",
    "model1 = ConvAuto2()\n",
    "#model1.build((None, 32, 40, 3))\n",
    "#model1.summary()\n",
    "\n",
    "model_name = '32_32_8_20Epochs'\n",
    "#plot_model(model1, to_file=f'./models/saved_models/classifiers/{model_name}_info.png', show_shapes=True, show_layer_names=True, expand_nested=True)\n"
   ]
  },
  {
   "cell_type": "code",
   "execution_count": 7,
   "metadata": {},
   "outputs": [
    {
     "name": "stdout",
     "output_type": "stream",
     "text": [
      "tf.Tensor([12  4], shape=(2,), dtype=int32)\n"
     ]
    },
    {
     "name": "stderr",
     "output_type": "stream",
     "text": [
      "2022-03-16 13:18:12.668478: I tensorflow/core/grappler/optimizers/custom_graph_optimizer_registry.cc:113] Plugin optimizer for device_type GPU is enabled.\n"
     ]
    }
   ],
   "source": [
    "for i, t in autoencoded_datasets['train'].take(1):\n",
    "    print(tf.shape(t))"
   ]
  },
  {
   "cell_type": "code",
   "execution_count": 8,
   "metadata": {},
   "outputs": [
    {
     "name": "stderr",
     "output_type": "stream",
     "text": [
      "2022-03-16 13:18:13.092356: I tensorflow/core/grappler/optimizers/custom_graph_optimizer_registry.cc:113] Plugin optimizer for device_type GPU is enabled.\n",
      "2022-03-16 13:18:13.250120: I tensorflow/core/grappler/optimizers/custom_graph_optimizer_registry.cc:113] Plugin optimizer for device_type GPU is enabled.\n",
      "2022-03-16 13:18:13.412298: I tensorflow/core/grappler/optimizers/custom_graph_optimizer_registry.cc:113] Plugin optimizer for device_type GPU is enabled.\n",
      "2022-03-16 13:18:20.141972: I tensorflow/core/grappler/optimizers/custom_graph_optimizer_registry.cc:113] Plugin optimizer for device_type GPU is enabled.\n",
      "2022-03-16 13:18:20.253962: I tensorflow/core/grappler/optimizers/custom_graph_optimizer_registry.cc:113] Plugin optimizer for device_type GPU is enabled.\n"
     ]
    },
    {
     "name": "stdout",
     "output_type": "stream",
     "text": [
      "Epoch: 0 [<tf.Tensor: shape=(), dtype=float32, numpy=12.103375>]\r"
     ]
    },
    {
     "name": "stderr",
     "output_type": "stream",
     "text": [
      "2022-03-16 13:18:27.177627: I tensorflow/core/grappler/optimizers/custom_graph_optimizer_registry.cc:113] Plugin optimizer for device_type GPU is enabled.\n"
     ]
    },
    {
     "ename": "ValueError",
     "evalue": "Exception encountered when calling layer \"conv_auto2\" (type ConvAuto2).\n\nin user code:\n\n    File \"/var/folders/mt/0n8phlt50rn7h35xhgh97mw80000gn/T/ipykernel_73688/2508993075.py\", line 48, in call  *\n        x = layer(x, training=training)\n    File \"/Users/lld/miniforge3/envs/py35/lib/python3.9/site-packages/keras/utils/traceback_utils.py\", line 67, in error_handler  **\n        raise e.with_traceback(filtered_tb) from None\n\n    ValueError: Exception encountered when calling layer \"random_flip\" (type RandomFlip).\n    \n    tf.function only supports singleton tf.Variables created on the first call. Make sure the tf.Variable is only created once or created outside tf.function. See https://www.tensorflow.org/guide/function#creating_tfvariables for more information.\n    \n    Call arguments received:\n      • inputs=tf.Tensor(shape=(12, 32, 40, 3), dtype=float32)\n      • training=True\n\n\nCall arguments received:\n  • inputs=tf.Tensor(shape=(12, 32, 40, 3), dtype=float32)\n  • training=True",
     "output_type": "error",
     "traceback": [
      "\u001b[0;31m---------------------------------------------------------------------------\u001b[0m",
      "\u001b[0;31mValueError\u001b[0m                                Traceback (most recent call last)",
      "\u001b[1;32m/Users/lld/Documents/inner_speech_decoding/classification.ipynb Cell 1'\u001b[0m in \u001b[0;36m<module>\u001b[0;34m\u001b[0m\n\u001b[1;32m     <a href='vscode-notebook-cell:/Users/lld/Documents/inner_speech_decoding/classification.ipynb#ch0000000?line=13'>14</a>\u001b[0m \u001b[39mfor\u001b[39;00m epoch \u001b[39min\u001b[39;00m \u001b[39mrange\u001b[39m(\u001b[39m20\u001b[39m):\n\u001b[1;32m     <a href='vscode-notebook-cell:/Users/lld/Documents/inner_speech_decoding/classification.ipynb#ch0000000?line=14'>15</a>\u001b[0m     \u001b[39mprint\u001b[39m(\u001b[39m\"\u001b[39m\u001b[39mEpoch:\u001b[39m\u001b[39m\"\u001b[39m, epoch, trainer\u001b[39m.\u001b[39mlosses[\u001b[39m'\u001b[39m\u001b[39mtrain\u001b[39m\u001b[39m'\u001b[39m], end\u001b[39m=\u001b[39m\u001b[39m'\u001b[39m\u001b[39m\\r\u001b[39;00m\u001b[39m'\u001b[39m)\n\u001b[0;32m---> <a href='vscode-notebook-cell:/Users/lld/Documents/inner_speech_decoding/classification.ipynb#ch0000000?line=15'>16</a>\u001b[0m     trainer\u001b[39m.\u001b[39;49mtrain_epoch()\n\u001b[1;32m     <a href='vscode-notebook-cell:/Users/lld/Documents/inner_speech_decoding/classification.ipynb#ch0000000?line=16'>17</a>\u001b[0m     grapher\u001b[39m.\u001b[39mupdate([trainer\u001b[39m.\u001b[39mlosses[\u001b[39m'\u001b[39m\u001b[39mtrain\u001b[39m\u001b[39m'\u001b[39m], trainer\u001b[39m.\u001b[39mlosses[\u001b[39m'\u001b[39m\u001b[39mtest\u001b[39m\u001b[39m'\u001b[39m], trainer\u001b[39m.\u001b[39maccuracies[\u001b[39m'\u001b[39m\u001b[39mtest\u001b[39m\u001b[39m'\u001b[39m]])\n\u001b[1;32m     <a href='vscode-notebook-cell:/Users/lld/Documents/inner_speech_decoding/classification.ipynb#ch0000000?line=18'>19</a>\u001b[0m \u001b[39mprint\u001b[39m(trainer\u001b[39m.\u001b[39mtest(\u001b[39m'\u001b[39m\u001b[39mvalid\u001b[39m\u001b[39m'\u001b[39m))\n",
      "File \u001b[0;32m~/Documents/inner_speech_decoding/models/training.py:160\u001b[0m, in \u001b[0;36mTrainer.train_epoch\u001b[0;34m(self)\u001b[0m\n\u001b[1;32m    <a href='file:///Users/lld/Documents/inner_speech_decoding/models/training.py?line=157'>158</a>\u001b[0m loss_agg \u001b[39m=\u001b[39m []\n\u001b[1;32m    <a href='file:///Users/lld/Documents/inner_speech_decoding/models/training.py?line=158'>159</a>\u001b[0m \u001b[39mfor\u001b[39;00m input_batch, target_batch \u001b[39min\u001b[39;00m \u001b[39mself\u001b[39m\u001b[39m.\u001b[39mdatasets[\u001b[39m'\u001b[39m\u001b[39mtrain\u001b[39m\u001b[39m'\u001b[39m]:\n\u001b[0;32m--> <a href='file:///Users/lld/Documents/inner_speech_decoding/models/training.py?line=159'>160</a>\u001b[0m     batch_loss \u001b[39m=\u001b[39m \u001b[39mself\u001b[39;49m\u001b[39m.\u001b[39;49mtrain_step(\n\u001b[1;32m    <a href='file:///Users/lld/Documents/inner_speech_decoding/models/training.py?line=160'>161</a>\u001b[0m         input_batch,\n\u001b[1;32m    <a href='file:///Users/lld/Documents/inner_speech_decoding/models/training.py?line=161'>162</a>\u001b[0m         target_batch\n\u001b[1;32m    <a href='file:///Users/lld/Documents/inner_speech_decoding/models/training.py?line=162'>163</a>\u001b[0m     )\n\u001b[1;32m    <a href='file:///Users/lld/Documents/inner_speech_decoding/models/training.py?line=163'>164</a>\u001b[0m     loss_agg\u001b[39m.\u001b[39mappend(batch_loss)\n\u001b[1;32m    <a href='file:///Users/lld/Documents/inner_speech_decoding/models/training.py?line=164'>165</a>\u001b[0m \u001b[39mself\u001b[39m\u001b[39m.\u001b[39mlosses[\u001b[39m'\u001b[39m\u001b[39mtrain\u001b[39m\u001b[39m'\u001b[39m]\u001b[39m.\u001b[39mappend(\u001b[39mfloat\u001b[39m(tf\u001b[39m.\u001b[39mreduce_mean(loss_agg)))\n",
      "File \u001b[0;32m~/Documents/inner_speech_decoding/models/training.py:174\u001b[0m, in \u001b[0;36mTrainer.train_step\u001b[0;34m(self, X, y)\u001b[0m\n\u001b[1;32m    <a href='file:///Users/lld/Documents/inner_speech_decoding/models/training.py?line=171'>172</a>\u001b[0m \u001b[39mdef\u001b[39;00m \u001b[39mtrain_step\u001b[39m(\u001b[39mself\u001b[39m, X, y):\n\u001b[1;32m    <a href='file:///Users/lld/Documents/inner_speech_decoding/models/training.py?line=172'>173</a>\u001b[0m     \u001b[39mwith\u001b[39;00m tf\u001b[39m.\u001b[39mGradientTape() \u001b[39mas\u001b[39;00m tape:\n\u001b[0;32m--> <a href='file:///Users/lld/Documents/inner_speech_decoding/models/training.py?line=173'>174</a>\u001b[0m         prediction \u001b[39m=\u001b[39m \u001b[39mself\u001b[39;49m\u001b[39m.\u001b[39;49mmodel(X, training\u001b[39m=\u001b[39;49m\u001b[39mTrue\u001b[39;49;00m)\n\u001b[1;32m    <a href='file:///Users/lld/Documents/inner_speech_decoding/models/training.py?line=174'>175</a>\u001b[0m         loss \u001b[39m=\u001b[39m \u001b[39mself\u001b[39m\u001b[39m.\u001b[39mloss_function(y, prediction)\n\u001b[1;32m    <a href='file:///Users/lld/Documents/inner_speech_decoding/models/training.py?line=175'>176</a>\u001b[0m     gradients \u001b[39m=\u001b[39m tape\u001b[39m.\u001b[39mgradient(loss, \u001b[39mself\u001b[39m\u001b[39m.\u001b[39mmodel\u001b[39m.\u001b[39mtrainable_variables)\n",
      "File \u001b[0;32m~/miniforge3/envs/py35/lib/python3.9/site-packages/keras/utils/traceback_utils.py:67\u001b[0m, in \u001b[0;36mfilter_traceback.<locals>.error_handler\u001b[0;34m(*args, **kwargs)\u001b[0m\n\u001b[1;32m     <a href='file:///Users/lld/miniforge3/envs/py35/lib/python3.9/site-packages/keras/utils/traceback_utils.py?line=64'>65</a>\u001b[0m \u001b[39mexcept\u001b[39;00m \u001b[39mException\u001b[39;00m \u001b[39mas\u001b[39;00m e:  \u001b[39m# pylint: disable=broad-except\u001b[39;00m\n\u001b[1;32m     <a href='file:///Users/lld/miniforge3/envs/py35/lib/python3.9/site-packages/keras/utils/traceback_utils.py?line=65'>66</a>\u001b[0m   filtered_tb \u001b[39m=\u001b[39m _process_traceback_frames(e\u001b[39m.\u001b[39m__traceback__)\n\u001b[0;32m---> <a href='file:///Users/lld/miniforge3/envs/py35/lib/python3.9/site-packages/keras/utils/traceback_utils.py?line=66'>67</a>\u001b[0m   \u001b[39mraise\u001b[39;00m e\u001b[39m.\u001b[39mwith_traceback(filtered_tb) \u001b[39mfrom\u001b[39;00m \u001b[39mNone\u001b[39m\n\u001b[1;32m     <a href='file:///Users/lld/miniforge3/envs/py35/lib/python3.9/site-packages/keras/utils/traceback_utils.py?line=67'>68</a>\u001b[0m \u001b[39mfinally\u001b[39;00m:\n\u001b[1;32m     <a href='file:///Users/lld/miniforge3/envs/py35/lib/python3.9/site-packages/keras/utils/traceback_utils.py?line=68'>69</a>\u001b[0m   \u001b[39mdel\u001b[39;00m filtered_tb\n",
      "File \u001b[0;32m~/miniforge3/envs/py35/lib/python3.9/site-packages/tensorflow/python/framework/func_graph.py:1147\u001b[0m, in \u001b[0;36mfunc_graph_from_py_func.<locals>.autograph_handler\u001b[0;34m(*args, **kwargs)\u001b[0m\n\u001b[1;32m   <a href='file:///Users/lld/miniforge3/envs/py35/lib/python3.9/site-packages/tensorflow/python/framework/func_graph.py?line=1144'>1145</a>\u001b[0m \u001b[39mexcept\u001b[39;00m \u001b[39mException\u001b[39;00m \u001b[39mas\u001b[39;00m e:  \u001b[39m# pylint:disable=broad-except\u001b[39;00m\n\u001b[1;32m   <a href='file:///Users/lld/miniforge3/envs/py35/lib/python3.9/site-packages/tensorflow/python/framework/func_graph.py?line=1145'>1146</a>\u001b[0m   \u001b[39mif\u001b[39;00m \u001b[39mhasattr\u001b[39m(e, \u001b[39m\"\u001b[39m\u001b[39mag_error_metadata\u001b[39m\u001b[39m\"\u001b[39m):\n\u001b[0;32m-> <a href='file:///Users/lld/miniforge3/envs/py35/lib/python3.9/site-packages/tensorflow/python/framework/func_graph.py?line=1146'>1147</a>\u001b[0m     \u001b[39mraise\u001b[39;00m e\u001b[39m.\u001b[39mag_error_metadata\u001b[39m.\u001b[39mto_exception(e)\n\u001b[1;32m   <a href='file:///Users/lld/miniforge3/envs/py35/lib/python3.9/site-packages/tensorflow/python/framework/func_graph.py?line=1147'>1148</a>\u001b[0m   \u001b[39melse\u001b[39;00m:\n\u001b[1;32m   <a href='file:///Users/lld/miniforge3/envs/py35/lib/python3.9/site-packages/tensorflow/python/framework/func_graph.py?line=1148'>1149</a>\u001b[0m     \u001b[39mraise\u001b[39;00m\n",
      "\u001b[0;31mValueError\u001b[0m: Exception encountered when calling layer \"conv_auto2\" (type ConvAuto2).\n\nin user code:\n\n    File \"/var/folders/mt/0n8phlt50rn7h35xhgh97mw80000gn/T/ipykernel_73688/2508993075.py\", line 48, in call  *\n        x = layer(x, training=training)\n    File \"/Users/lld/miniforge3/envs/py35/lib/python3.9/site-packages/keras/utils/traceback_utils.py\", line 67, in error_handler  **\n        raise e.with_traceback(filtered_tb) from None\n\n    ValueError: Exception encountered when calling layer \"random_flip\" (type RandomFlip).\n    \n    tf.function only supports singleton tf.Variables created on the first call. Make sure the tf.Variable is only created once or created outside tf.function. See https://www.tensorflow.org/guide/function#creating_tfvariables for more information.\n    \n    Call arguments received:\n      • inputs=tf.Tensor(shape=(12, 32, 40, 3), dtype=float32)\n      • training=True\n\n\nCall arguments received:\n  • inputs=tf.Tensor(shape=(12, 32, 40, 3), dtype=float32)\n  • training=True"
     ]
    }
   ],
   "source": [
    "%matplotlib tk\n",
    "\n",
    "# Initialize the loss-function\n",
    "loss_func = tf.losses.CategoricalCrossentropy()\n",
    "# Initialize the optimizer\n",
    "optimizer = tf.keras.optimizers.Adam()\n",
    "# Initialize Train-Object\n",
    "trainer = train.Trainer(model1, autoencoded_datasets,\n",
    "                        optimizer, loss_func, train.accuracy)\n",
    "# Initialize Plotting-Object\n",
    "grapher = utilities.TrainingGrapher(3,1, supxlabel='Epochs', axs_xlabels=[['Train Loss', 'Test Loss', 'Test Accuracy']])\n",
    "\n",
    "trainer.model_test()\n",
    "for epoch in range(20):\n",
    "    print(\"Epoch:\", epoch, trainer.losses['train'], end='\\r')\n",
    "    trainer.train_epoch()\n",
    "    grapher.update([trainer.losses['train'], trainer.losses['test'], trainer.accuracies['test']])\n",
    "\n",
    "print(trainer.test('valid'))\n"
   ]
  },
  {
   "cell_type": "code",
   "execution_count": null,
   "metadata": {},
   "outputs": [
    {
     "data": {
      "image/png": "[encoded data removed]",
      "text/plain": [
       "<Figure size 572x448 with 3 Axes>"
      ]
     },
     "execution_count": 9,
     "metadata": {},
     "output_type": "execute_result"
    }
   ],
   "source": [
    "%matplotlib inline\n",
    "#rapher.fig.set_size_inches(18.5, 10.5)\n",
    "grapher.fig"
   ]
  },
  {
   "cell_type": "code",
   "execution_count": null,
   "metadata": {},
   "outputs": [
    {
     "ename": "ValueError",
     "evalue": "Creating variables on a non-first call to a function decorated with tf.function.",
     "output_type": "error",
     "traceback": [
      "\u001b[0;31m---------------------------------------------------------------------------\u001b[0m",
      "\u001b[0;31mValueError\u001b[0m                                Traceback (most recent call last)",
      "\u001b[1;32m/Users/lld/Documents/inner_speech_decoding/classification.ipynb Cell 4'\u001b[0m in \u001b[0;36m<module>\u001b[0;34m\u001b[0m\n\u001b[1;32m      <a href='vscode-notebook-cell:/Users/lld/Documents/inner_speech_decoding/classification.ipynb#ch0000003?line=0'>1</a>\u001b[0m \u001b[39m# Save the entire model as a SavedModel.\u001b[39;00m\n\u001b[1;32m      <a href='vscode-notebook-cell:/Users/lld/Documents/inner_speech_decoding/classification.ipynb#ch0000003?line=1'>2</a>\u001b[0m get_ipython()\u001b[39m.\u001b[39msystem(\u001b[39m'\u001b[39m\u001b[39mmkdir -p saved_model\u001b[39m\u001b[39m'\u001b[39m)\n\u001b[0;32m----> <a href='vscode-notebook-cell:/Users/lld/Documents/inner_speech_decoding/classification.ipynb#ch0000003?line=2'>3</a>\u001b[0m model1\u001b[39m.\u001b[39;49msave(\u001b[39mf\u001b[39;49m\u001b[39m'\u001b[39;49m\u001b[39m./models/saved_models/classifiers/\u001b[39;49m\u001b[39m{\u001b[39;49;00mmodel_name\u001b[39m}\u001b[39;49;00m\u001b[39m'\u001b[39;49m)\n\u001b[1;32m      <a href='vscode-notebook-cell:/Users/lld/Documents/inner_speech_decoding/classification.ipynb#ch0000003?line=3'>4</a>\u001b[0m grapher\u001b[39m.\u001b[39mfig\u001b[39m.\u001b[39msavefig(\u001b[39mf\u001b[39m\u001b[39m'\u001b[39m\u001b[39m./models/saved_models/classifiers/\u001b[39m\u001b[39m{\u001b[39;00mmodel_name\u001b[39m}\u001b[39;00m\u001b[39m_info\u001b[39m\u001b[39m'\u001b[39m)\n",
      "File \u001b[0;32m~/miniforge3/envs/py35/lib/python3.9/site-packages/keras/utils/traceback_utils.py:67\u001b[0m, in \u001b[0;36mfilter_traceback.<locals>.error_handler\u001b[0;34m(*args, **kwargs)\u001b[0m\n\u001b[1;32m     <a href='file:///Users/lld/miniforge3/envs/py35/lib/python3.9/site-packages/keras/utils/traceback_utils.py?line=64'>65</a>\u001b[0m \u001b[39mexcept\u001b[39;00m \u001b[39mException\u001b[39;00m \u001b[39mas\u001b[39;00m e:  \u001b[39m# pylint: disable=broad-except\u001b[39;00m\n\u001b[1;32m     <a href='file:///Users/lld/miniforge3/envs/py35/lib/python3.9/site-packages/keras/utils/traceback_utils.py?line=65'>66</a>\u001b[0m   filtered_tb \u001b[39m=\u001b[39m _process_traceback_frames(e\u001b[39m.\u001b[39m__traceback__)\n\u001b[0;32m---> <a href='file:///Users/lld/miniforge3/envs/py35/lib/python3.9/site-packages/keras/utils/traceback_utils.py?line=66'>67</a>\u001b[0m   \u001b[39mraise\u001b[39;00m e\u001b[39m.\u001b[39mwith_traceback(filtered_tb) \u001b[39mfrom\u001b[39;00m \u001b[39mNone\u001b[39m\n\u001b[1;32m     <a href='file:///Users/lld/miniforge3/envs/py35/lib/python3.9/site-packages/keras/utils/traceback_utils.py?line=67'>68</a>\u001b[0m \u001b[39mfinally\u001b[39;00m:\n\u001b[1;32m     <a href='file:///Users/lld/miniforge3/envs/py35/lib/python3.9/site-packages/keras/utils/traceback_utils.py?line=68'>69</a>\u001b[0m   \u001b[39mdel\u001b[39;00m filtered_tb\n",
      "File \u001b[0;32m~/miniforge3/envs/py35/lib/python3.9/contextlib.py:126\u001b[0m, in \u001b[0;36m_GeneratorContextManager.__exit__\u001b[0;34m(self, typ, value, traceback)\u001b[0m\n\u001b[1;32m    <a href='file:///Users/lld/miniforge3/envs/py35/lib/python3.9/contextlib.py?line=123'>124</a>\u001b[0m \u001b[39mif\u001b[39;00m typ \u001b[39mis\u001b[39;00m \u001b[39mNone\u001b[39;00m:\n\u001b[1;32m    <a href='file:///Users/lld/miniforge3/envs/py35/lib/python3.9/contextlib.py?line=124'>125</a>\u001b[0m     \u001b[39mtry\u001b[39;00m:\n\u001b[0;32m--> <a href='file:///Users/lld/miniforge3/envs/py35/lib/python3.9/contextlib.py?line=125'>126</a>\u001b[0m         \u001b[39mnext\u001b[39m(\u001b[39mself\u001b[39m\u001b[39m.\u001b[39mgen)\n\u001b[1;32m    <a href='file:///Users/lld/miniforge3/envs/py35/lib/python3.9/contextlib.py?line=126'>127</a>\u001b[0m     \u001b[39mexcept\u001b[39;00m \u001b[39mStopIteration\u001b[39;00m:\n\u001b[1;32m    <a href='file:///Users/lld/miniforge3/envs/py35/lib/python3.9/contextlib.py?line=127'>128</a>\u001b[0m         \u001b[39mreturn\u001b[39;00m \u001b[39mFalse\u001b[39;00m\n",
      "\u001b[0;31mValueError\u001b[0m: Creating variables on a non-first call to a function decorated with tf.function."
     ]
    }
   ],
   "source": [
    "# Save the entire model as a SavedModel.\n",
    "!mkdir -p saved_model\n",
    "model1.save(f'./models/saved_models/classifiers/{model_name}')\n",
    "grapher.fig.savefig(f'./models/saved_models/classifiers/{model_name}_info')"
   ]
  },
  {
   "cell_type": "code",
   "execution_count": null,
   "metadata": {},
   "outputs": [],
   "source": []
  }
 ],
 "metadata": {
  "interpreter": {
   "hash": "ca8d0a0b18e5ead98978c779fcc98c2ce0d58c7314eef98ffee0524dd190160b"
  },
  "kernelspec": {
   "display_name": "Python 3.9.10 ('py35')",
   "language": "python",
   "name": "python3"
  },
  "language_info": {
   "codemirror_mode": {
    "name": "ipython",
    "version": 3
   },
   "file_extension": ".py",
   "mimetype": "text/x-python",
   "name": "python",
   "nbconvert_exporter": "python",
   "pygments_lexer": "ipython3",
   "version": "3.9.10"
  },
  "orig_nbformat": 4
 },
 "nbformat": 4,
 "nbformat_minor": 2
}