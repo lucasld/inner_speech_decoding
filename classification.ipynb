{
 "cells": [
  {
   "cell_type": "code",
   "execution_count": 1,
   "metadata": {},
   "outputs": [
    {
     "name": "stderr",
     "output_type": "stream",
     "text": [
      "<frozen importlib._bootstrap>:228: RuntimeWarning: scipy._lib.messagestream.MessageStream size changed, may indicate binary incompatibility. Expected 56 from C header, got 64 from PyObject\n"
     ]
    }
   ],
   "source": [
    "import mne\n",
    "import matplotlib.pyplot as plt\n",
    "import numpy as np\n",
    "import tensorflow as tf\n",
    "from keras.utils.vis_utils import plot_model\n",
    "\n",
    "import data_preprocessing as dp\n",
    "import utilities\n",
    "import models.training as train\n",
    "import models.autoencoder\n",
    "from models.autoencoder import ConvolutionalAutoencoder\n",
    "from models.classifiers import EEGNet"
   ]
  },
  {
   "cell_type": "code",
   "execution_count": 2,
   "metadata": {},
   "outputs": [],
   "source": [
    "title = 'subject_one_no_augmentation_bs3'"
   ]
  },
  {
   "cell_type": "code",
   "execution_count": 20,
   "metadata": {},
   "outputs": [
    {
     "name": "stdout",
     "output_type": "stream",
     "text": [
      "\u001b[0;31mSignature:\u001b[0m \u001b[0msklearn\u001b[0m\u001b[0;34m.\u001b[0m\u001b[0mutils\u001b[0m\u001b[0;34m.\u001b[0m\u001b[0mshuffle\u001b[0m\u001b[0;34m(\u001b[0m\u001b[0;34m*\u001b[0m\u001b[0marrays\u001b[0m\u001b[0;34m,\u001b[0m \u001b[0mrandom_state\u001b[0m\u001b[0;34m=\u001b[0m\u001b[0;32mNone\u001b[0m\u001b[0;34m,\u001b[0m \u001b[0mn_samples\u001b[0m\u001b[0;34m=\u001b[0m\u001b[0;32mNone\u001b[0m\u001b[0;34m)\u001b[0m\u001b[0;34m\u001b[0m\u001b[0;34m\u001b[0m\u001b[0m\n",
      "\u001b[0;31mDocstring:\u001b[0m\n",
      "Shuffle arrays or sparse matrices in a consistent way.\n",
      "\n",
      "This is a convenience alias to ``resample(*arrays, replace=False)`` to do\n",
      "random permutations of the collections.\n",
      "\n",
      "Parameters\n",
      "----------\n",
      "*arrays : sequence of indexable data-structures\n",
      "    Indexable data-structures can be arrays, lists, dataframes or scipy\n",
      "    sparse matrices with consistent first dimension.\n",
      "\n",
      "random_state : int, RandomState instance or None, default=None\n",
      "    Determines random number generation for shuffling\n",
      "    the data.\n",
      "    Pass an int for reproducible results across multiple function calls.\n",
      "    See :term:`Glossary <random_state>`.\n",
      "\n",
      "n_samples : int, default=None\n",
      "    Number of samples to generate. If left to None this is\n",
      "    automatically set to the first dimension of the arrays.  It should\n",
      "    not be larger than the length of arrays.\n",
      "\n",
      "Returns\n",
      "-------\n",
      "shuffled_arrays : sequence of indexable data-structures\n",
      "    Sequence of shuffled copies of the collections. The original arrays\n",
      "    are not impacted.\n",
      "\n",
      "Examples\n",
      "--------\n",
      "It is possible to mix sparse and dense arrays in the same run::\n",
      "\n",
      "  >>> import numpy as np\n",
      "  >>> X = np.array([[1., 0.], [2., 1.], [0., 0.]])\n",
      "  >>> y = np.array([0, 1, 2])\n",
      "\n",
      "  >>> from scipy.sparse import coo_matrix\n",
      "  >>> X_sparse = coo_matrix(X)\n",
      "\n",
      "  >>> from sklearn.utils import shuffle\n",
      "  >>> X, X_sparse, y = shuffle(X, X_sparse, y, random_state=0)\n",
      "  >>> X\n",
      "  array([[0., 0.],\n",
      "         [2., 1.],\n",
      "         [1., 0.]])\n",
      "\n",
      "  >>> X_sparse\n",
      "  <3x2 sparse matrix of type '<... 'numpy.float64'>'\n",
      "      with 3 stored elements in Compressed Sparse Row format>\n",
      "\n",
      "  >>> X_sparse.toarray()\n",
      "  array([[0., 0.],\n",
      "         [2., 1.],\n",
      "         [1., 0.]])\n",
      "\n",
      "  >>> y\n",
      "  array([2, 1, 0])\n",
      "\n",
      "  >>> shuffle(y, n_samples=2, random_state=0)\n",
      "  array([0, 1])\n",
      "\n",
      "See Also\n",
      "--------\n",
      "resample\n",
      "\u001b[0;31mFile:\u001b[0m      ~/miniforge3/envs/py35/lib/python3.9/site-packages/sklearn/utils/__init__.py\n",
      "\u001b[0;31mType:\u001b[0m      function\n"
     ]
    }
   ],
   "source": [
    "sklearn.utils.shuffle?"
   ]
  },
  {
   "cell_type": "markdown",
   "metadata": {},
   "source": [
    "### Create Dataset with EEG-Data compressed by trained Autoencoder\n",
    "\n",
    "```python\n",
    "data, events = dp.load_data()\n",
    "data, events = dp.choose_condition(data, events, 'inner speech')\n",
    "norm_data = data.astype(np.float16) * 100_000  # NORMALIZATION ONLY POSSIBLE BY MULTIPLYING HERE?\n",
    "norm_data = dp.normalization(norm_data)\n",
    "\n",
    "dataset = tf.data.Dataset.from_tensor_slices((norm_data, events[:, 1]))\n",
    "dataset = dp.preprocessing_pipeline(\n",
    "    dataset,\n",
    "    functions = [dp.filter_interval_tensor,\n",
    "                 lambda sample:(sample[0], tf.one_hot(sample[1], 4)), # one-hot\n",
    "                 lambda sample: (tf.reshape(sample[0], (128, 640, 1)),\n",
    "                                 sample[1])],\n",
    "    args = [[[1, 3.5], 256], [], []],\n",
    "    batch_size = 12\n",
    ")\n",
    "\n",
    "# save dataset so that we can just load the preprocessed version next time\n",
    "tf.data.experimental.save(dataset, 'dataset/preprocessed/auto_class_ds')\n",
    "```"
   ]
  },
  {
   "cell_type": "code",
   "execution_count": 3,
   "metadata": {},
   "outputs": [
    {
     "name": "stdout",
     "output_type": "stream",
     "text": [
      "Metal device set to: Apple M1 Pro\n",
      "\n",
      "systemMemory: 16.00 GB\n",
      "maxCacheSize: 5.33 GB\n",
      "\n"
     ]
    },
    {
     "name": "stderr",
     "output_type": "stream",
     "text": [
      "2022-03-17 21:48:37.204060: I tensorflow/core/common_runtime/pluggable_device/pluggable_device_factory.cc:305] Could not identify NUMA node of platform GPU ID 0, defaulting to 0. Your kernel may not have been built with NUMA support.\n",
      "2022-03-17 21:48:37.204238: I tensorflow/core/common_runtime/pluggable_device/pluggable_device_factory.cc:271] Created TensorFlow device (/job:localhost/replica:0/task:0/device:GPU:0 with 0 MB memory) -> physical PluggableDevice (device: 0, name: METAL, pci bus id: <undefined>)\n"
     ]
    }
   ],
   "source": [
    "# load datasets\n",
    "datasets = {key:tf.data.experimental.load(f'dataset/preprocessed/{title}/{key}') for key in ('train', 'test', 'valid')}"
   ]
  },
  {
   "cell_type": "code",
   "execution_count": 4,
   "metadata": {},
   "outputs": [],
   "source": [
    "autoencoder_datasets = {key:ds.map(lambda input, clean_input, target: (input, target)) for key, ds in datasets.items()}"
   ]
  },
  {
   "cell_type": "code",
   "execution_count": 5,
   "metadata": {},
   "outputs": [
    {
     "name": "stdout",
     "output_type": "stream",
     "text": [
      "WARNING:tensorflow:No training configuration found in save file, so the model was *not* compiled. Compile it manually.\n"
     ]
    }
   ],
   "source": [
    "# load dataset created previously\n",
    "##dataset = tf.data.experimental.load('dataset/preprocessed/auto_class_ds')\n",
    "# Load autoencoder-model\n",
    "autoencoder_trained = tf.keras.models.load_model(f'./models/saved_models/{title}')\n",
    "# create dataset by extracting latent space for every sample\n",
    "autoencoded_datasets = {key:models.autoencoder.latent_dataset(autoencoder_trained.encoder, ds) for key, ds in autoencoder_datasets.items()}\n",
    "##autoencoded_dataset = autoencoded_dataset.shuffle(200)\n",
    "##autoencoded_datasets = dp.split_dataset(autoencoded_dataset)"
   ]
  },
  {
   "cell_type": "code",
   "execution_count": 6,
   "metadata": {},
   "outputs": [
    {
     "name": "stdout",
     "output_type": "stream",
     "text": [
      "tf.Tensor([0. 0. 0. 1.], shape=(4,), dtype=float32)\n"
     ]
    },
    {
     "name": "stderr",
     "output_type": "stream",
     "text": [
      "2022-03-17 16:26:11.538595: W tensorflow/core/platform/profile_utils/cpu_utils.cc:128] Failed to get CPU frequency: 0 Hz\n",
      "2022-03-17 16:26:11.544902: I tensorflow/core/grappler/optimizers/custom_graph_optimizer_registry.cc:113] Plugin optimizer for device_type GPU is enabled.\n"
     ]
    },
    {
     "name": "stdout",
     "output_type": "stream",
     "text": [
      "(32, 40, 3)\n"
     ]
    }
   ],
   "source": [
    "%matplotlib tk\n",
    "for i, t in autoencoded_datasets['valid'].take(1):\n",
    "    print(t[0])\n",
    "    # normalize\n",
    "    norm_enc = i[0] / np.max(i[0], (0, 1))[np.newaxis, np.newaxis, :]\n",
    "    plt.imshow(norm_enc)\n",
    "    print(norm_enc.shape)\n",
    "    plt.show()"
   ]
  },
  {
   "cell_type": "markdown",
   "metadata": {},
   "source": [
    "### Classify Autoencoded Dataset"
   ]
  },
  {
   "cell_type": "code",
   "execution_count": 7,
   "metadata": {},
   "outputs": [],
   "source": [
    "#from models.classifiers import ConvAuto1\n",
    "\n",
    "#model1 = ConvAuto1()\n",
    "#model1.build((12, 32, 40, 3))\n",
    "#model1.summary()"
   ]
  },
  {
   "cell_type": "code",
   "execution_count": 18,
   "metadata": {},
   "outputs": [
    {
     "name": "stdout",
     "output_type": "stream",
     "text": [
      "Model: \"model_5\"\n",
      "_________________________________________________________________\n",
      " Layer (type)                Output Shape              Param #   \n",
      "=================================================================\n",
      " input_6 (InputLayer)        [(None, 128, 640, 1)]     0         \n",
      "                                                                 \n",
      " conv2d_5 (Conv2D)           (None, 128, 640, 8)       256       \n",
      "                                                                 \n",
      " batch_normalization_15 (Bat  (None, 128, 640, 8)      32        \n",
      " chNormalization)                                                \n",
      "                                                                 \n",
      " depthwise_conv2d_5 (Depthwi  (None, 1, 640, 16)       2048      \n",
      " seConv2D)                                                       \n",
      "                                                                 \n",
      " batch_normalization_16 (Bat  (None, 1, 640, 16)       64        \n",
      " chNormalization)                                                \n",
      "                                                                 \n",
      " activation_10 (Activation)  (None, 1, 640, 16)        0         \n",
      "                                                                 \n",
      " average_pooling2d_10 (Avera  (None, 1, 160, 16)       0         \n",
      " gePooling2D)                                                    \n",
      "                                                                 \n",
      " dropout_8 (Dropout)         (None, 1, 160, 16)        0         \n",
      "                                                                 \n",
      " separable_conv2d_5 (Separab  (None, 1, 160, 16)       512       \n",
      " leConv2D)                                                       \n",
      "                                                                 \n",
      " batch_normalization_17 (Bat  (None, 1, 160, 16)       64        \n",
      " chNormalization)                                                \n",
      "                                                                 \n",
      " activation_11 (Activation)  (None, 1, 160, 16)        0         \n",
      "                                                                 \n",
      " average_pooling2d_11 (Avera  (None, 1, 20, 16)        0         \n",
      " gePooling2D)                                                    \n",
      "                                                                 \n",
      " dropout_9 (Dropout)         (None, 1, 20, 16)         0         \n",
      "                                                                 \n",
      " flatten (Flatten)           (None, 320)               0         \n",
      "                                                                 \n",
      " dense (Dense)               (None, 4)                 1284      \n",
      "                                                                 \n",
      " softmax (Activation)        (None, 4)                 0         \n",
      "                                                                 \n",
      "=================================================================\n",
      "Total params: 4,260\n",
      "Trainable params: 4,180\n",
      "Non-trainable params: 80\n",
      "_________________________________________________________________\n"
     ]
    }
   ],
   "source": [
    "import tensorflow as tf\n",
    "from tensorflow.keras import Sequential\n",
    "from tensorflow.keras.models import Model\n",
    "from tensorflow.keras.layers import Dense, Conv2D, Flatten, Dropout, Normalization, LeakyReLU, Activation, BatchNormalization, MaxPool2D\n",
    "\n",
    "class ConvAuto2(Model):\n",
    "    def __init__(self):\n",
    "        \"\"\"\n",
    "        init: constructor of model\n",
    "        call: performs forward pass of model\n",
    "        \"\"\"\n",
    "        super(ConvAuto2, self).__init__()\n",
    "\n",
    "        \"\"\"\n",
    "            Conv2D(filters=4, kernel_size=(3,3)),\n",
    "            #BatchNormalization(),\n",
    "            LeakyReLU(),\n",
    "            Dropout(0.6),\n",
    "            Conv2D(filters=3, kernel_size=(3,3)),\n",
    "            #BatchNormalization(),\n",
    "            LeakyReLU(),\n",
    "            Dropout(0.3),\n",
    "            Conv2D(filters=2, kernel_size=(3,3)),\n",
    "            #BatchNormalization(),\n",
    "            LeakyReLU(),\n",
    "            tf.keras.layers.GlobalAveragePooling2D(),\n",
    "        \"\"\"\n",
    "        self.layer_list = [\n",
    "            Conv2D(filters=16, kernel_size=(3,3), strides=2),\n",
    "            Conv2D(filters=8, kernel_size=(3,3), strides=2),\n",
    "            tf.keras.layers.GlobalAveragePooling2D(),\n",
    "            Dense(10),\n",
    "            Dense(4, activation='softmax')\n",
    "        ]\n",
    "\n",
    "    @tf.function\n",
    "    def call(self, inputs, training=None) -> tf.Tensor:\n",
    "        \"\"\" Computes a forward step with the given data\n",
    "        Parameters\n",
    "        ----------\n",
    "        inputs : tf.Tensor\n",
    "            the input for the model\n",
    "        training : bool\n",
    "            true if call has been made from train_step, which tells the dropout layer to be active \n",
    "        Returns\n",
    "        ----------\n",
    "        x : tf.Tensor\n",
    "            the output of the model\n",
    "        \"\"\"\n",
    "        x = inputs\n",
    "        for layer in self.layer_list:\n",
    "            x = layer(x)\n",
    "        return x\n",
    "\n",
    "model1 = EEGNet(4,kernLength=32, dropoutRate=0.8, dropoutType='Dropout')\n",
    "#model1.build((None, 32, 40, 3))\n",
    "model1.summary()\n",
    "\n",
    "model_name = '32_32_8_20Epochs'\n",
    "#plot_model(model1, to_file=f'./models/saved_models/classifiers/{model_name}_info.png', show_shapes=True, show_layer_names=True, expand_nested=True)\n"
   ]
  },
  {
   "cell_type": "code",
   "execution_count": 11,
   "metadata": {},
   "outputs": [
    {
     "ename": "NameError",
     "evalue": "name 'autoencoded_datasets' is not defined",
     "output_type": "error",
     "traceback": [
      "\u001b[0;31m---------------------------------------------------------------------------\u001b[0m",
      "\u001b[0;31mNameError\u001b[0m                                 Traceback (most recent call last)",
      "\u001b[1;32m/Users/lld/Documents/inner_speech_decoding/classification.ipynb Cell 1'\u001b[0m in \u001b[0;36m<module>\u001b[0;34m\u001b[0m\n\u001b[0;32m----> <a href='vscode-notebook-cell:/Users/lld/Documents/inner_speech_decoding/classification.ipynb#ch0000000?line=0'>1</a>\u001b[0m \u001b[39mfor\u001b[39;00m i, t \u001b[39min\u001b[39;00m autoencoded_datasets[\u001b[39m'\u001b[39m\u001b[39mtrain\u001b[39m\u001b[39m'\u001b[39m]\u001b[39m.\u001b[39mtake(\u001b[39m1\u001b[39m):\n\u001b[1;32m      <a href='vscode-notebook-cell:/Users/lld/Documents/inner_speech_decoding/classification.ipynb#ch0000000?line=1'>2</a>\u001b[0m     \u001b[39mprint\u001b[39m(tf\u001b[39m.\u001b[39mshape(t))\n",
      "\u001b[0;31mNameError\u001b[0m: name 'autoencoded_datasets' is not defined"
     ]
    }
   ],
   "source": [
    "for i, t in autoencoded_datasets['train'].take(1):\n",
    "    print(tf.shape(t))"
   ]
  },
  {
   "cell_type": "code",
   "execution_count": 19,
   "metadata": {},
   "outputs": [
    {
     "name": "stdout",
     "output_type": "stream",
     "text": [
      "(<tf.Tensor: shape=(), dtype=float32, numpy=13.118388>, <tf.Tensor: shape=(), dtype=float64, numpy=0.16666666666666666>)1738, 1.0088427066802979, 0.7970809936523438, 0.5867419242858887, 0.3911995589733124, 0.2128131091594696, 0.09165009111166, 0.04923265054821968, 0.03604869544506073, 0.0310842152684927, 0.04118018597364426, 0.10178423672914505, 0.38197651505470276, 0.4810134172439575, 0.3824930191040039, 0.08165858685970306, 0.032004762440919876, 0.01614665426313877, 0.007291373796761036, 0.00604674406349659, 0.0052329907193779945, 0.004605018068104982, 0.004100313410162926, 0.003683878807350993, 0.003333563916385174, 0.0030344596598297358, 0.0027760551311075687, 0.0025506047531962395, 0.0023522661067545414, 0.0021765525452792645, 0.0020199145656079054, 0.0018795268842950463, 0.0017530868062749505, 0.0016387058421969414, 0.0015348495217040181, 0.0014401994412764907, 0.0013536777114495635, 0.001274343580007553, 0.0012013959931209683, 0.0011341666104272008, 0.0010720215504989028, 0.0010144837433472276, 0.000961103942245245, 0.000911466428078711, 0.0008652554242871702, 0.0008221473544836044, 0.0007818551966920495, 0.0007441620691679418, 0.0007088431157171726, 0.0006757046212442219, 0.0006445632316172123, 0.0006152932764962316, 0.0005877093644812703, 0.0005617194110527635, 0.000537187559530139, 0.0005140251014381647, 0.0004921068903058767, 0.0004713941889349371, 0.0004517470661085099, 0.00043313749483786523, 0.0004154785128775984, 0.00039872145862318575, 0.0003827997134067118, 0.0003676547494251281, 0.00035323883639648557, 0.00033953666570596397, 0.00032647736952640116, 0.0003140190674457699, 0.0003021432785317302, 0.0002908048627432436, 0.00027997742290608585, 0.0002696361334528774, 0.0002597584098111838, 0.00025029759854078293, 0.00024125348136294633, 0.00023260226589627564, 0.0002243120688945055, 0.00021637258760165423, 0.00020876570488326252, 0.00020146176393609494, 0.0001944798423210159, 0.00018776723300106823, 0.0001813174458220601, 0.00017513018974568695, 0.00016918407345656306, 0.0001634685613680631, 0.00015797867672517896, 0.00015270532458089292, 0.00014762596401851624, 0.0001427259121555835, 0.00013803945330437273, 0.00013351035886444151, 0.00012914682156406343, 0.0001249552733497694, 0.0001209234178531915, 0.00011702429765136912, 0.00011326230742270127]\n"
     ]
    }
   ],
   "source": [
    "%matplotlib tk\n",
    "\n",
    "# Initialize the loss-function\n",
    "loss_func = tf.losses.CategoricalCrossentropy()\n",
    "# Initialize the optimizer\n",
    "optimizer = tf.keras.optimizers.Adam()\n",
    "# Initialize Train-Object\n",
    "trainer = train.Trainer(model1, autoencoder_datasets,\n",
    "                        optimizer, loss_func, train.accuracy)\n",
    "# Initialize Plotting-Object\n",
    "grapher = utilities.TrainingGrapher(3,1, supxlabel='Epochs', axs_xlabels=[['Train Loss', 'Test Loss', 'Test Accuracy']])\n",
    "\n",
    "trainer.model_test()\n",
    "for epoch in range(100):\n",
    "    print(\"Epoch:\", epoch, trainer.losses['train'], end='\\r')\n",
    "    trainer.train_epoch()\n",
    "    grapher.update([trainer.losses['train'], trainer.losses['test'], trainer.accuracies['test']])\n",
    "\n",
    "print(trainer.test('valid'))\n"
   ]
  },
  {
   "cell_type": "code",
   "execution_count": 13,
   "metadata": {},
   "outputs": [
    {
     "name": "stdout",
     "output_type": "stream",
     "text": [
      "(<tf.Tensor: shape=(), dtype=float32, numpy=12.139858>, <tf.Tensor: shape=(), dtype=float64, numpy=0.2333333333333333>)\n"
     ]
    }
   ],
   "source": [
    "\n",
    "print(trainer.test('valid'))"
   ]
  },
  {
   "cell_type": "code",
   "execution_count": null,
   "metadata": {},
   "outputs": [
    {
     "data": {
      "image/png": "[encoded data removed]",
      "text/plain": [
       "<Figure size 480x360 with 3 Axes>"
      ]
     },
     "execution_count": 11,
     "metadata": {},
     "output_type": "execute_result"
    }
   ],
   "source": [
    "%matplotlib inline\n",
    "#rapher.fig.set_size_inches(18.5, 10.5)\n",
    "grapher.fig"
   ]
  },
  {
   "cell_type": "code",
   "execution_count": null,
   "metadata": {},
   "outputs": [
    {
     "name": "stdout",
     "output_type": "stream",
     "text": [
      "INFO:tensorflow:Assets written to: ./models/saved_models/classifiers/32_32_8_20Epochs/assets\n"
     ]
    },
    {
     "name": "stderr",
     "output_type": "stream",
     "text": [
      "2022-03-17 16:09:47.235388: W tensorflow/python/util/util.cc:368] Sets are not currently considered sequences, but this may change in the future, so consider avoiding using them.\n"
     ]
    }
   ],
   "source": [
    "# Save the entire model as a SavedModel.\n",
    "!mkdir -p saved_model\n",
    "model1.save(f'./models/saved_models/classifiers/{model_name}')\n",
    "grapher.fig.savefig(f'./models/saved_models/classifiers/{model_name}_info')"
   ]
  },
  {
   "cell_type": "code",
   "execution_count": null,
   "metadata": {},
   "outputs": [],
   "source": []
  }
 ],
 "metadata": {
  "interpreter": {
   "hash": "ca8d0a0b18e5ead98978c779fcc98c2ce0d58c7314eef98ffee0524dd190160b"
  },
  "kernelspec": {
   "display_name": "Python 3.9.10 ('py35')",
   "language": "python",
   "name": "python3"
  },
  "language_info": {
   "codemirror_mode": {
    "name": "ipython",
    "version": 3
   },
   "file_extension": ".py",
   "mimetype": "text/x-python",
   "name": "python",
   "nbconvert_exporter": "python",
   "pygments_lexer": "ipython3",
   "version": "3.9.10"
  },
  "orig_nbformat": 4
 },
 "nbformat": 4,
 "nbformat_minor": 2
}
