{
 "cells": [
  {
   "cell_type": "code",
   "execution_count": 1,
   "metadata": {},
   "outputs": [
    {
     "name": "stderr",
     "output_type": "stream",
     "text": [
      "<frozen importlib._bootstrap>:228: RuntimeWarning: scipy._lib.messagestream.MessageStream size changed, may indicate binary incompatibility. Expected 56 from C header, got 64 from PyObject\n"
     ]
    }
   ],
   "source": [
    "import mne\n",
    "import matplotlib.pyplot as plt\n",
    "import numpy as np\n",
    "import tensorflow as tf\n",
    "from keras.utils.vis_utils import plot_model\n",
    "\n",
    "import data_preprocessing as dp\n",
    "import utilities\n",
    "import models.training as train\n",
    "import models.autoencoder\n",
    "from models.autoencoder import ConvolutionalAutoencoder"
   ]
  },
  {
   "cell_type": "markdown",
   "metadata": {},
   "source": [
    "### Create Dataset with EEG-Data compressed by trained Autoencoder\n",
    "\n",
    "```python\n",
    "data, events = dp.load_data()\n",
    "data, events = dp.choose_condition(data, events, 'inner speech')\n",
    "norm_data = data.astype(np.float16) * 100_000  # NORMALIZATION ONLY POSSIBLE BY MULTIPLYING HERE?\n",
    "norm_data = dp.normalization(norm_data)\n",
    "\n",
    "dataset = tf.data.Dataset.from_tensor_slices((norm_data, events[:, 1]))\n",
    "dataset = dp.preprocessing_pipeline(\n",
    "    dataset,\n",
    "    functions = [dp.filter_interval_tensor,\n",
    "                 lambda sample:(sample[0], tf.one_hot(sample[1], 4)), # one-hot\n",
    "                 lambda sample: (tf.reshape(sample[0], (128, 640, 1)),\n",
    "                                 sample[1])],\n",
    "    args = [[[1, 3.5], 256], [], []],\n",
    "    batch_size = 12\n",
    ")\n",
    "\n",
    "# save dataset so that we can just load the preprocessed version next time\n",
    "tf.data.experimental.save(dataset, 'dataset/preprocessed/auto_class_ds')\n",
    "```"
   ]
  },
  {
   "cell_type": "code",
   "execution_count": 2,
   "metadata": {},
   "outputs": [
    {
     "name": "stdout",
     "output_type": "stream",
     "text": [
      "Metal device set to: Apple M1 Pro\n",
      "\n",
      "systemMemory: 16.00 GB\n",
      "maxCacheSize: 5.33 GB\n",
      "\n"
     ]
    },
    {
     "name": "stderr",
     "output_type": "stream",
     "text": [
      "2022-03-12 11:14:27.166113: I tensorflow/core/common_runtime/pluggable_device/pluggable_device_factory.cc:305] Could not identify NUMA node of platform GPU ID 0, defaulting to 0. Your kernel may not have been built with NUMA support.\n",
      "2022-03-12 11:14:27.166224: I tensorflow/core/common_runtime/pluggable_device/pluggable_device_factory.cc:271] Created TensorFlow device (/job:localhost/replica:0/task:0/device:GPU:0 with 0 MB memory) -> physical PluggableDevice (device: 0, name: METAL, pci bus id: <undefined>)\n"
     ]
    }
   ],
   "source": [
    "# load datasets\n",
    "datasets = {key:tf.data.experimental.load(f'dataset/preprocessed/new_full_ds_bs3/{key}') for key in ('train', 'test', 'valid')}"
   ]
  },
  {
   "cell_type": "code",
   "execution_count": 3,
   "metadata": {},
   "outputs": [
    {
     "name": "stdout",
     "output_type": "stream",
     "text": [
      "WARNING:tensorflow:No training configuration found in save file, so the model was *not* compiled. Compile it manually.\n"
     ]
    }
   ],
   "source": [
    "# load dataset created previously\n",
    "##dataset = tf.data.experimental.load('dataset/preprocessed/auto_class_ds')\n",
    "# Load autoencoder-model\n",
    "autoencoder_trained = tf.keras.models.load_model('./models/saved_models/autoencoder_20Epochs_train_split_bs3')\n",
    "# create dataset by extracting latent space for every sample\n",
    "autoencoded_datasets = {key:models.autoencoder.latent_dataset(autoencoder_trained.encoder, ds) for key, ds in datasets.items()}\n",
    "##autoencoded_dataset = autoencoded_dataset.shuffle(200)\n",
    "##autoencoded_datasets = dp.split_dataset(autoencoded_dataset)"
   ]
  },
  {
   "cell_type": "code",
   "execution_count": 4,
   "metadata": {},
   "outputs": [
    {
     "name": "stdout",
     "output_type": "stream",
     "text": [
      "tf.Tensor([0. 0. 0. 1.], shape=(4,), dtype=float32)\n"
     ]
    },
    {
     "name": "stderr",
     "output_type": "stream",
     "text": [
      "2022-03-12 11:14:28.252084: W tensorflow/core/platform/profile_utils/cpu_utils.cc:128] Failed to get CPU frequency: 0 Hz\n",
      "2022-03-12 11:14:28.257414: I tensorflow/core/grappler/optimizers/custom_graph_optimizer_registry.cc:113] Plugin optimizer for device_type GPU is enabled.\n",
      "Clipping input data to the valid range for imshow with RGB data ([0..1] for floats or [0..255] for integers).\n"
     ]
    },
    {
     "name": "stdout",
     "output_type": "stream",
     "text": [
      "(32, 40, 3)\n"
     ]
    },
    {
     "data": {
      "image/png": "[encoded data removed]",
      "text/plain": [
       "<Figure size 432x288 with 1 Axes>"
      ]
     },
     "metadata": {
      "needs_background": "light"
     },
     "output_type": "display_data"
    }
   ],
   "source": [
    "for i, t in autoencoded_datasets['valid'].take(1):\n",
    "    print(t[0])\n",
    "    # normalize\n",
    "    norm_enc = i[0] / np.max(i[0], (0, 1))[np.newaxis, np.newaxis, :]\n",
    "    plt.imshow(norm_enc)\n",
    "    print(norm_enc.shape)"
   ]
  },
  {
   "cell_type": "markdown",
   "metadata": {},
   "source": [
    "### Classify Autoencoded Dataset"
   ]
  },
  {
   "cell_type": "code",
   "execution_count": 5,
   "metadata": {},
   "outputs": [],
   "source": [
    "#from models.classifiers import ConvAuto1\n",
    "\n",
    "#model1 = ConvAuto1()\n",
    "#model1.build((12, 32, 40, 3))\n",
    "#model1.summary()"
   ]
  },
  {
   "cell_type": "code",
   "execution_count": 6,
   "metadata": {},
   "outputs": [
    {
     "name": "stdout",
     "output_type": "stream",
     "text": [
      "Model: \"conv_auto2\"\n",
      "_________________________________________________________________\n",
      " Layer (type)                Output Shape              Param #   \n",
      "=================================================================\n",
      " conv2d (Conv2D)             multiple                  1792      \n",
      "                                                                 \n",
      " batch_normalization (BatchN  multiple                 256       \n",
      " ormalization)                                                   \n",
      "                                                                 \n",
      " leaky_re_lu (LeakyReLU)     multiple                  0         \n",
      "                                                                 \n",
      " conv2d_1 (Conv2D)           multiple                  18464     \n",
      "                                                                 \n",
      " batch_normalization_1 (Batc  multiple                 128       \n",
      " hNormalization)                                                 \n",
      "                                                                 \n",
      " leaky_re_lu_1 (LeakyReLU)   multiple                  0         \n",
      "                                                                 \n",
      " dropout (Dropout)           multiple                  0         \n",
      "                                                                 \n",
      " conv2d_2 (Conv2D)           multiple                  2312      \n",
      "                                                                 \n",
      " batch_normalization_2 (Batc  multiple                 32        \n",
      " hNormalization)                                                 \n",
      "                                                                 \n",
      " leaky_re_lu_2 (LeakyReLU)   multiple                  0         \n",
      "                                                                 \n",
      " global_average_pooling2d (G  multiple                 0         \n",
      " lobalAveragePooling2D)                                          \n",
      "                                                                 \n",
      " dense (Dense)               multiple                  36        \n",
      "                                                                 \n",
      "=================================================================\n",
      "Total params: 23,020\n",
      "Trainable params: 22,812\n",
      "Non-trainable params: 208\n",
      "_________________________________________________________________\n"
     ]
    },
    {
     "data": {
      "image/png": "[encoded data removed]",
      "text/plain": [
       "<IPython.core.display.Image object>"
      ]
     },
     "execution_count": 6,
     "metadata": {},
     "output_type": "execute_result"
    }
   ],
   "source": [
    "import tensorflow as tf\n",
    "from tensorflow.keras import Sequential\n",
    "from tensorflow.keras.models import Model\n",
    "from tensorflow.keras.layers import Dense, Conv2D, Flatten, Dropout, Normalization, LeakyReLU, Activation, BatchNormalization, MaxPool2D\n",
    "\n",
    "\n",
    "\n",
    "class ConvAuto1(Model):\n",
    "    def __init__(self):\n",
    "        \"\"\"\n",
    "        init: constructor of model\n",
    "        call: performs forward pass of model\n",
    "        \"\"\"\n",
    "        super(ConvAuto1, self).__init__()\n",
    "\n",
    "        self.layer_list = [\n",
    "            #Conv2D(filters=32, kernel_size=(3,3)),\n",
    "            #LeakyReLU(),\n",
    "            #Dropout(0.3),\n",
    "            Conv2D(filters=32, kernel_size=(3,3)),\n",
    "            BatchNormalization(),\n",
    "            LeakyReLU(),\n",
    "            MaxPool2D(),\n",
    "            Conv2D(filters=32, kernel_size=(3,3)),\n",
    "            BatchNormalization(),\n",
    "            LeakyReLU(),\n",
    "            Dropout(0.3),\n",
    "            MaxPool2D(),\n",
    "            Conv2D(filters=32, kernel_size=(3,3)),\n",
    "            BatchNormalization(),\n",
    "            LeakyReLU(),\n",
    "            tf.keras.layers.GlobalAveragePooling2D(),\n",
    "            Dense(4, activation='softmax')\n",
    "        ]\n",
    "\n",
    "    @tf.function\n",
    "    def call(self, inputs) -> tf.Tensor:\n",
    "        \"\"\" Computes a forward step with the given data\n",
    "        Parameters\n",
    "        ----------\n",
    "        inputs : tf.Tensor\n",
    "            the input for the model\n",
    "        training : bool\n",
    "            true if call has been made from train_step, which tells the dropout layer to be active \n",
    "        Returns\n",
    "        ----------\n",
    "        x : tf.Tensor\n",
    "            the output of the model\n",
    "        \"\"\"\n",
    "        x = inputs\n",
    "        for layer in self.layer_list:\n",
    "            x = layer(x)\n",
    "        return x\n",
    "\n",
    "class ConvAuto2(Model):\n",
    "    def __init__(self):\n",
    "        \"\"\"\n",
    "        init: constructor of model\n",
    "        call: performs forward pass of model\n",
    "        \"\"\"\n",
    "        super(ConvAuto2, self).__init__()\n",
    "\n",
    "        self.layer_list = [\n",
    "            Conv2D(filters=64, kernel_size=(3,3)),\n",
    "            BatchNormalization(),\n",
    "            LeakyReLU(),\n",
    "            Conv2D(filters=32, kernel_size=(3,3)),\n",
    "            BatchNormalization(),\n",
    "            LeakyReLU(),\n",
    "            Dropout(0.3),\n",
    "            Conv2D(filters=8, kernel_size=(3,3)),\n",
    "            BatchNormalization(),\n",
    "            LeakyReLU(),\n",
    "            tf.keras.layers.GlobalAveragePooling2D(),\n",
    "            Dense(4, activation='softmax')\n",
    "        ]\n",
    "\n",
    "    @tf.function\n",
    "    def call(self, inputs) -> tf.Tensor:\n",
    "        \"\"\" Computes a forward step with the given data\n",
    "        Parameters\n",
    "        ----------\n",
    "        inputs : tf.Tensor\n",
    "            the input for the model\n",
    "        training : bool\n",
    "            true if call has been made from train_step, which tells the dropout layer to be active \n",
    "        Returns\n",
    "        ----------\n",
    "        x : tf.Tensor\n",
    "            the output of the model\n",
    "        \"\"\"\n",
    "        x = inputs\n",
    "        for layer in self.layer_list:\n",
    "            x = layer(x)\n",
    "        return x\n",
    "\n",
    "model1 = ConvAuto2()\n",
    "model1.build((12, 32, 40, 3))\n",
    "model1.summary()\n",
    "\n",
    "model_name = '32_32_8_20Epochs'\n",
    "plot_model(model1, to_file=f'./models/saved_models/classifiers/{model_name}_info.png', show_shapes=True, show_layer_names=True, expand_nested=True)\n"
   ]
  },
  {
   "cell_type": "code",
   "execution_count": 7,
   "metadata": {},
   "outputs": [
    {
     "name": "stderr",
     "output_type": "stream",
     "text": [
      "2022-03-12 11:14:29.365159: I tensorflow/core/grappler/optimizers/custom_graph_optimizer_registry.cc:113] Plugin optimizer for device_type GPU is enabled.\n"
     ]
    }
   ],
   "source": [
    "print([len(list(ds)) for ds in autoencoded_datasets.values()])"
   ]
  },
  {
   "cell_type": "code",
   "execution_count": null,
   "metadata": {},
   "outputs": [
    {
     "name": "stderr",
     "output_type": "stream",
     "text": [
      "2022-03-12 11:05:14.627560: I tensorflow/core/grappler/optimizers/custom_graph_optimizer_registry.cc:113] Plugin optimizer for device_type GPU is enabled.\n",
      "2022-03-12 11:05:14.696396: I tensorflow/core/grappler/optimizers/custom_graph_optimizer_registry.cc:113] Plugin optimizer for device_type GPU is enabled.\n",
      "2022-03-12 11:05:21.553435: I tensorflow/core/grappler/optimizers/custom_graph_optimizer_registry.cc:113] Plugin optimizer for device_type GPU is enabled.\n",
      "2022-03-12 11:05:21.825292: I tensorflow/core/grappler/optimizers/custom_graph_optimizer_registry.cc:113] Plugin optimizer for device_type GPU is enabled.\n"
     ]
    },
    {
     "name": "stdout",
     "output_type": "stream",
     "text": [
      "Epoch: 0 [<tf.Tensor: shape=(), dtype=float32, numpy=12.083456>]\r"
     ]
    },
    {
     "name": "stderr",
     "output_type": "stream",
     "text": [
      "2022-03-12 11:05:28.612899: I tensorflow/core/grappler/optimizers/custom_graph_optimizer_registry.cc:113] Plugin optimizer for device_type GPU is enabled.\n",
      "2022-03-12 11:05:28.721337: I tensorflow/core/grappler/optimizers/custom_graph_optimizer_registry.cc:113] Plugin optimizer for device_type GPU is enabled.\n",
      "2022-03-12 11:05:28.778861: I tensorflow/core/grappler/optimizers/custom_graph_optimizer_registry.cc:113] Plugin optimizer for device_type GPU is enabled.\n",
      "2022-03-12 11:05:37.301116: I tensorflow/core/grappler/optimizers/custom_graph_optimizer_registry.cc:113] Plugin optimizer for device_type GPU is enabled.\n",
      "2022-03-12 11:05:37.347259: I tensorflow/core/grappler/optimizers/custom_graph_optimizer_registry.cc:113] Plugin optimizer for device_type GPU is enabled.\n",
      "2022-03-12 11:05:37.605125: I tensorflow/core/grappler/optimizers/custom_graph_optimizer_registry.cc:113] Plugin optimizer for device_type GPU is enabled.\n",
      "2022-03-12 11:05:39.050076: I tensorflow/core/grappler/optimizers/custom_graph_optimizer_registry.cc:113] Plugin optimizer for device_type GPU is enabled.\n"
     ]
    },
    {
     "name": "stdout",
     "output_type": "stream",
     "text": [
      "Epoch: 1 [<tf.Tensor: shape=(), dtype=float32, numpy=12.083456>, 1.3988316059112549]\r"
     ]
    },
    {
     "name": "stderr",
     "output_type": "stream",
     "text": [
      "2022-03-12 11:05:39.385546: I tensorflow/core/grappler/optimizers/custom_graph_optimizer_registry.cc:113] Plugin optimizer for device_type GPU is enabled.\n",
      "2022-03-12 11:05:47.713871: I tensorflow/core/grappler/optimizers/custom_graph_optimizer_registry.cc:113] Plugin optimizer for device_type GPU is enabled.\n"
     ]
    },
    {
     "name": "stdout",
     "output_type": "stream",
     "text": [
      "Epoch: 2 [<tf.Tensor: shape=(), dtype=float32, numpy=12.083456>, 1.3988316059112549, 1.3897368907928467]\r"
     ]
    },
    {
     "name": "stderr",
     "output_type": "stream",
     "text": [
      "2022-03-12 11:05:49.292388: I tensorflow/core/grappler/optimizers/custom_graph_optimizer_registry.cc:113] Plugin optimizer for device_type GPU is enabled.\n",
      "2022-03-12 11:05:57.606612: I tensorflow/core/grappler/optimizers/custom_graph_optimizer_registry.cc:113] Plugin optimizer for device_type GPU is enabled.\n"
     ]
    },
    {
     "name": "stdout",
     "output_type": "stream",
     "text": [
      "Epoch: 3 [<tf.Tensor: shape=(), dtype=float32, numpy=12.083456>, 1.3988316059112549, 1.3897368907928467, 1.3881218433380127]\r"
     ]
    },
    {
     "name": "stderr",
     "output_type": "stream",
     "text": [
      "2022-03-12 11:05:59.191001: I tensorflow/core/grappler/optimizers/custom_graph_optimizer_registry.cc:113] Plugin optimizer for device_type GPU is enabled.\n"
     ]
    }
   ],
   "source": [
    "%matplotlib tk\n",
    "\n",
    "# Initialize the loss-function\n",
    "loss_func = tf.losses.CategoricalCrossentropy()\n",
    "# Initialize the optimizer\n",
    "optimizer = tf.keras.optimizers.Adam()\n",
    "# Initialize Train-Object\n",
    "trainer = train.Trainer(model1, autoencoded_datasets,\n",
    "                        optimizer, loss_func, train.accuracy)\n",
    "# Initialize Plotting-Object\n",
    "grapher = utilities.TrainingGrapher(3,1, supxlabel='Epochs', axs_xlabels=[['Train Loss', 'Test Loss', 'Test Accuracy']])\n",
    "\n",
    "trainer.model_test()\n",
    "for epoch in range(20):\n",
    "    print(\"Epoch:\", epoch, trainer.losses['train'], end='\\r')\n",
    "    trainer.train_epoch()\n",
    "    grapher.update([trainer.losses['train'], trainer.losses['test'], trainer.accuracies['test']])\n",
    "\n",
    "print(trainer.test('valid'))\n"
   ]
  },
  {
   "cell_type": "code",
   "execution_count": null,
   "metadata": {},
   "outputs": [],
   "source": [
    "%matplotlib inline\n",
    "#rapher.fig.set_size_inches(18.5, 10.5)\n",
    "grapher.fig"
   ]
  },
  {
   "cell_type": "code",
   "execution_count": null,
   "metadata": {},
   "outputs": [],
   "source": [
    "# Save the entire model as a SavedModel.\n",
    "!mkdir -p saved_model\n",
    "model1.save(f'./models/saved_models/classifiers/{model_name}')\n",
    "grapher.fig.savefig(f'./models/saved_models/classifiers/{model_name}_info')"
   ]
  },
  {
   "cell_type": "code",
   "execution_count": null,
   "metadata": {},
   "outputs": [],
   "source": []
  }
 ],
 "metadata": {
  "interpreter": {
   "hash": "ca8d0a0b18e5ead98978c779fcc98c2ce0d58c7314eef98ffee0524dd190160b"
  },
  "kernelspec": {
   "display_name": "Python 3.9.10 ('py35')",
   "language": "python",
   "name": "python3"
  },
  "language_info": {
   "codemirror_mode": {
    "name": "ipython",
    "version": 3
   },
   "file_extension": ".py",
   "mimetype": "text/x-python",
   "name": "python",
   "nbconvert_exporter": "python",
   "pygments_lexer": "ipython3",
   "version": "3.9.10"
  },
  "orig_nbformat": 4
 },
 "nbformat": 4,
 "nbformat_minor": 2
}